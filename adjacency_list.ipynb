{
 "cells": [
  {
   "cell_type": "markdown",
   "metadata": {},
   "source": [
    "### Adjacency List"
   ]
  },
  {
   "cell_type": "code",
   "execution_count": 1,
   "metadata": {},
   "outputs": [
    {
     "name": "stdout",
     "output_type": "stream",
     "text": [
      "No of edges and vertices:\n",
      "4 5\n",
      "a b\n",
      "['b']\n",
      "['a']\n",
      "b c\n",
      "['a', 'c']\n",
      "['b']\n",
      "c d\n",
      "['b', 'd']\n",
      "['c']\n",
      "a d\n",
      "['b', 'd']\n",
      "['c', 'a']\n",
      "b d\n",
      "['a', 'c', 'd']\n",
      "['c', 'a', 'b']\n",
      "Adjeacency list of each vertex:\n",
      "a ['b', 'd']\n",
      "b ['a', 'c', 'd']\n",
      "c ['b', 'd']\n",
      "d ['c', 'a', 'b']\n"
     ]
    }
   ],
   "source": [
    "#generate adjacency list\n",
    "from collections import defaultdict\n",
    "graph = defaultdict(list)\n",
    "print(\"No of edges and vertices:\")\n",
    "v,e = map(int, input().split())\n",
    "\n",
    "for i in range (e):\n",
    "    u,v = map(str, input().split())\n",
    "    graph[u].append(v)\n",
    "    print(graph[u])\n",
    "    graph[v].append(u)\n",
    "    print(graph[v])\n",
    "    \n",
    "print(\"Adjeacency list of each vertex:\")\n",
    "for v in graph:\n",
    "    print(v, graph[v])"
   ]
  }
 ],
 "metadata": {
  "kernelspec": {
   "display_name": "Python 3",
   "language": "python",
   "name": "python3"
  },
  "language_info": {
   "codemirror_mode": {
    "name": "ipython",
    "version": 3
   },
   "file_extension": ".py",
   "mimetype": "text/x-python",
   "name": "python",
   "nbconvert_exporter": "python",
   "pygments_lexer": "ipython3",
   "version": "3.8.2"
  }
 },
 "nbformat": 4,
 "nbformat_minor": 4
}
