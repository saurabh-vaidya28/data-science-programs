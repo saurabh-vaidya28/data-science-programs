{
 "cells": [
  {
   "cell_type": "markdown",
   "metadata": {},
   "source": [
    "### Adjacency matrix for directed graph"
   ]
  },
  {
   "cell_type": "code",
   "execution_count": 1,
   "metadata": {},
   "outputs": [
    {
     "name": "stdout",
     "output_type": "stream",
     "text": [
      "No. of edges and vertices:\n",
      "4 4\n",
      "a b 3\n",
      "b c 7\n",
      "c d 2\n",
      "d a 5\n",
      "Adjacency Matrix for directed weighted graph:\n",
      "0 3 0 0 \n",
      "0 0 7 0 \n",
      "0 0 0 2 \n",
      "5 0 0 0 \n"
     ]
    }
   ],
   "source": [
    "#adjacency matric for directed weighted graph\n",
    "def printmatrix(matrix):\n",
    "    r,c = len(matrix), len(matrix[0])\n",
    "    print(\"Adjacency Matrix for directed weighted graph:\")\n",
    "    for i in range(r):\n",
    "        for j in range(c):\n",
    "            print(matrix[i][j], end = \" \")\n",
    "        print()\n",
    "        \n",
    "print(\"No. of edges and vertices:\")\n",
    "v,e = map(int, input().split())\n",
    "matrix = [[0]*v for i in range(v)]\n",
    "for i in range(e):\n",
    "    u,v,w = map(str, input().split())\n",
    "    u = ord(u) - ord('a')\n",
    "    v = ord(v) - ord('a')\n",
    "    w = int(w)\n",
    "    matrix[u][v] = w #weight / cost in case of edge\n",
    "\n",
    "printmatrix(matrix)  "
   ]
  },
  {
   "cell_type": "code",
   "execution_count": null,
   "metadata": {},
   "outputs": [],
   "source": []
  }
 ],
 "metadata": {
  "kernelspec": {
   "display_name": "Python 3",
   "language": "python",
   "name": "python3"
  },
  "language_info": {
   "codemirror_mode": {
    "name": "ipython",
    "version": 3
   },
   "file_extension": ".py",
   "mimetype": "text/x-python",
   "name": "python",
   "nbconvert_exporter": "python",
   "pygments_lexer": "ipython3",
   "version": "3.8.2"
  }
 },
 "nbformat": 4,
 "nbformat_minor": 4
}
