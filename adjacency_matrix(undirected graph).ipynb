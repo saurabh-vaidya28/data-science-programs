{
 "cells": [
  {
   "cell_type": "markdown",
   "metadata": {},
   "source": [
    "### Adjacency matrix for undirected graph"
   ]
  },
  {
   "cell_type": "code",
   "execution_count": 1,
   "metadata": {},
   "outputs": [
    {
     "name": "stdout",
     "output_type": "stream",
     "text": [
      "No of edges and vertices:\n",
      "4 4\n",
      "a b\n",
      "b c\n",
      "c a\n",
      "a d\n",
      "Adjacency Matrix for undirected graph:\n",
      "0 1 1 1 \n",
      "1 0 1 0 \n",
      "1 1 0 0 \n",
      "1 0 0 0 \n"
     ]
    }
   ],
   "source": [
    "#adjacency matric for undirected graph\n",
    "def printmatrix(matrix):\n",
    "    r,c = len(matrix), len(matrix[0])\n",
    "    print(\"Adjacency Matrix for undirected graph:\")\n",
    "    for i in range(r):\n",
    "        for j in range(c):\n",
    "            print(matrix[i][j], end = \" \")\n",
    "        print()\n",
    "\n",
    "print(\"No of edges and vertices:\")\n",
    "v,e = map(int, input().split())\n",
    "matrix = [[0]*v for i in range(v)]\n",
    "for i in range(e):\n",
    "    u,v = map(str, input().split())\n",
    "    u = ord(u) - ord('a')\n",
    "    v = ord(v) - ord('a')\n",
    "    matrix[u][v] = 1 #true or false in case of edge\n",
    "    matrix[v][u] = 1\n",
    "    #for loops in graph\n",
    "    if u == v:\n",
    "        matrix[u][v] = 2\n",
    "    #print(matrix)\n",
    "printmatrix(matrix)"
   ]
  },
  {
   "cell_type": "code",
   "execution_count": null,
   "metadata": {},
   "outputs": [],
   "source": []
  }
 ],
 "metadata": {
  "kernelspec": {
   "display_name": "Python 3",
   "language": "python",
   "name": "python3"
  },
  "language_info": {
   "codemirror_mode": {
    "name": "ipython",
    "version": 3
   },
   "file_extension": ".py",
   "mimetype": "text/x-python",
   "name": "python",
   "nbconvert_exporter": "python",
   "pygments_lexer": "ipython3",
   "version": "3.8.2"
  }
 },
 "nbformat": 4,
 "nbformat_minor": 4
}
