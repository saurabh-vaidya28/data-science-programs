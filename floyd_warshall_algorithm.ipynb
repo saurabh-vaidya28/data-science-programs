{
 "cells": [
  {
   "cell_type": "markdown",
   "metadata": {},
   "source": [
    "### Floyd Warshall Algorithm"
   ]
  },
  {
   "cell_type": "code",
   "execution_count": 4,
   "metadata": {},
   "outputs": [
    {
     "name": "stdout",
     "output_type": "stream",
     "text": [
      "Enter the no. of edges and vertices:\n",
      "4 4\n",
      "Give weight on the edge between source and destination vertex:\n",
      "0 1 5\n",
      "1 2 6\n",
      "2 3 1\n",
      "0 3 8\n",
      "Matrix before applying floyd warshall algorithm:\n",
      "0 5 inf 8 \n",
      "inf 0 6 inf \n",
      "inf inf 0 1 \n",
      "inf inf inf 0 \n",
      "-------------------\n",
      "Matrix after applying floyd warshall algorithm:\n",
      "0 5 11 8 \n",
      "inf 0 6 7 \n",
      "inf inf 0 1 \n",
      "inf inf inf 0 \n"
     ]
    }
   ],
   "source": [
    "INF = float('inf')\n",
    "print(\"Enter the no. of edges and vertices:\")\n",
    "v,e = map(int, input().split())\n",
    "m = [[None]*v for i in range(v)]\n",
    "for i in range(v):\n",
    "    for j in range(v):\n",
    "        #src = dst\n",
    "        if i == j:\n",
    "            m[i][j] = 0\n",
    "            #edge dosen't exist\n",
    "        else:\n",
    "            m[i][j] = INF\n",
    "            \n",
    "\n",
    "def printmatrix(m):\n",
    "    r,c = len(m), len(m[0])\n",
    "    for i in range(r):\n",
    "        for j in range(c):\n",
    "            print(m[i][j], end = \" \")\n",
    "        print()\n",
    "        \n",
    "\n",
    "#take input values\n",
    "print(\"Give weight on the edge between source and destination vertex:\")\n",
    "for i in range(e):\n",
    "    src, dst, wt = map(int, input().split())\n",
    "    m[src][dst] = wt\n",
    "\n",
    "print(\"Matrix before applying floyd warshall algorithm:\")\n",
    "printmatrix(m)\n",
    "print(\"-------------------\")\n",
    "#apply our algorithm\n",
    "# T.C = O(v^3)\n",
    "for k in range(v):\n",
    "    for i in range(v):\n",
    "        for j in range(v):\n",
    "            #cost of tmp path is less\n",
    "            #update\n",
    "            if m[i][k] + m[k][j] < m[i][j]:\n",
    "                m[i][j] = m[i][k] + m[k][j]\n",
    "print(\"Matrix after applying floyd warshall algorithm:\")             \n",
    "printmatrix(m)\n"
   ]
  },
  {
   "cell_type": "code",
   "execution_count": null,
   "metadata": {},
   "outputs": [],
   "source": []
  }
 ],
 "metadata": {
  "kernelspec": {
   "display_name": "Python 3",
   "language": "python",
   "name": "python3"
  },
  "language_info": {
   "codemirror_mode": {
    "name": "ipython",
    "version": 3
   },
   "file_extension": ".py",
   "mimetype": "text/x-python",
   "name": "python",
   "nbconvert_exporter": "python",
   "pygments_lexer": "ipython3",
   "version": "3.8.2"
  }
 },
 "nbformat": 4,
 "nbformat_minor": 4
}
