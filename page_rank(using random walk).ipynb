{
 "cells": [
  {
   "cell_type": "markdown",
   "metadata": {},
   "source": [
    "### Generating Page Rank using Random Walk"
   ]
  },
  {
   "cell_type": "code",
   "execution_count": 1,
   "metadata": {},
   "outputs": [
    {
     "name": "stdout",
     "output_type": "stream",
     "text": [
      "PageRank using Random Walk Method\n",
      "[ 5  2 14  8  9  0 12  7  6  1  4 13  3 11 10]\n",
      "PageRank using inbuilt pagerank method\n",
      "5, 14, 8, 2, 9, 0, 7, 12, 6, 1, 4, 13, 3, 11, 10, "
     ]
    }
   ],
   "source": [
    "import networkx as nx\n",
    "import random\n",
    "import numpy as np\n",
    "  \n",
    "# Add directed edges in graph\n",
    "def add_edges(g, pr):\n",
    "    for each in g.nodes():\n",
    "        for each1 in g.nodes():\n",
    "            if (each != each1):\n",
    "                ra = random.random()\n",
    "                if (ra < pr):\n",
    "                    g.add_edge(each, each1)\n",
    "                else:\n",
    "                    continue\n",
    "    return g\n",
    "  \n",
    "# Sort the nodes\n",
    "def nodes_sorted(g, points):\n",
    "    t = np.array(points)\n",
    "    t = np.argsort(-t)\n",
    "    return t\n",
    "  \n",
    "# Distribute points randomly in a graph\n",
    "def random_Walk(g):\n",
    "    rwp = [0 for i in range(g.number_of_nodes())]\n",
    "    nodes = list(g.nodes())\n",
    "    r = random.choice(nodes)\n",
    "    rwp[r] += 1\n",
    "    neigh = list(g.out_edges(r))\n",
    "    z = 0\n",
    "      \n",
    "    while (z != 10000):\n",
    "        if (len(neigh) == 0):\n",
    "            focus = random.choice(nodes)\n",
    "        else:\n",
    "            r1 = random.choice(neigh)\n",
    "            focus = r1[1]\n",
    "        rwp[focus] += 1\n",
    "        neigh = list(g.out_edges(focus))\n",
    "        z += 1\n",
    "    return rwp\n",
    "  \n",
    "  \n",
    "# Main\n",
    "# 1. Create a directed graph with N nodes\n",
    "g = nx.DiGraph()\n",
    "N = 15\n",
    "g.add_nodes_from(range(N))\n",
    "  \n",
    "# 2. Add directed edges in graph\n",
    "g = add_edges(g, 0.4)\n",
    "  \n",
    "# 3. perform a random walk\n",
    "points = random_Walk(g)\n",
    "  \n",
    "# 4. Get nodes rank according to their random walk points\n",
    "sorted_by_points = nodes_sorted(g, points)\n",
    "print(\"PageRank using Random Walk Method\")\n",
    "print(sorted_by_points)\n",
    "  \n",
    "# p_dict is dictionary of tuples\n",
    "p_dict = nx.pagerank(g)\n",
    "p_sort = sorted(p_dict.items(), key=lambda x: x[1], reverse=True)\n",
    "  \n",
    "print(\"PageRank using inbuilt pagerank method\")\n",
    "for i in p_sort:\n",
    "    print(i[0], end=\", \")"
   ]
  }
 ],
 "metadata": {
  "kernelspec": {
   "display_name": "Python 3",
   "language": "python",
   "name": "python3"
  },
  "language_info": {
   "codemirror_mode": {
    "name": "ipython",
    "version": 3
   },
   "file_extension": ".py",
   "mimetype": "text/x-python",
   "name": "python",
   "nbconvert_exporter": "python",
   "pygments_lexer": "ipython3",
   "version": "3.8.2"
  }
 },
 "nbformat": 4,
 "nbformat_minor": 4
}
