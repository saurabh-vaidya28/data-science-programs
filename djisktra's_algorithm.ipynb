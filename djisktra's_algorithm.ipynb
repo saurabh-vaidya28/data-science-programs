{
 "cells": [
  {
   "cell_type": "markdown",
   "metadata": {},
   "source": [
    "### Djisktra's Algorithm greedy approach"
   ]
  },
  {
   "cell_type": "code",
   "execution_count": 1,
   "metadata": {},
   "outputs": [
    {
     "name": "stdout",
     "output_type": "stream",
     "text": [
      "No. of edges and vertices:\n",
      "4 4\n",
      "a b 4\n",
      "b c 3\n",
      "a c 6\n",
      "c d 2\n",
      "To find the cost of two vertices:\n",
      "a d\n",
      "Path Exists a to d with cost 8\n"
     ]
    }
   ],
   "source": [
    "import heapq\n",
    "from collections import defaultdict\n",
    "\n",
    "def shortestPath(graph, src, dest):\n",
    "    h = []\n",
    "        \n",
    "    heapq.heappush(h, (0, src))\n",
    "        \n",
    "    while len(h)!=0:\n",
    "        currcost, currvtx = heapq.heappop(h)\n",
    "        if currvtx == dest:\n",
    "            print(\"Path Exists {} to {} with cost {}\".format(src, dest, currcost))\n",
    "            break\n",
    "        for neigh, neighcost in graph[currvtx]:\n",
    "            heapq.heappush(h, (currcost + neighcost, neigh))\n",
    "\n",
    "graph = defaultdict(list)\n",
    "print(\"No. of edges and vertices:\")\n",
    "v,e = map(int, input().split())\n",
    "for i in range(e):\n",
    "    u,v,w = map(str, input().split())\n",
    "    graph[u].append((v, int(w)))\n",
    "print(\"To find the cost of two vertices:\")\n",
    "src, dest = map(str, input().split())\n",
    "shortestPath(graph, src, dest)                "
   ]
  },
  {
   "cell_type": "code",
   "execution_count": null,
   "metadata": {},
   "outputs": [],
   "source": []
  }
 ],
 "metadata": {
  "kernelspec": {
   "display_name": "Python 3",
   "language": "python",
   "name": "python3"
  },
  "language_info": {
   "codemirror_mode": {
    "name": "ipython",
    "version": 3
   },
   "file_extension": ".py",
   "mimetype": "text/x-python",
   "name": "python",
   "nbconvert_exporter": "python",
   "pygments_lexer": "ipython3",
   "version": "3.8.2"
  }
 },
 "nbformat": 4,
 "nbformat_minor": 4
}
